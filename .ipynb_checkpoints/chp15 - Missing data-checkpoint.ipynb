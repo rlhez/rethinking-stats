{
 "cells": [
  {
   "cell_type": "code",
   "execution_count": 1,
   "metadata": {},
   "outputs": [],
   "source": [
    "%matplotlib inline\n",
    "from IPython.core.pylabtools import figsize\n",
    "import numpy as np\n",
    "from matplotlib import pyplot as plt\n",
    "figsize(18, 6)\n",
    "\n",
    "import pandas as pd\n",
    "import scipy.stats as stats\n",
    "import scipy.special as special\n",
    "\n",
    "import pymc3 as pm\n",
    "import theano\n",
    "import theano.tensor as tt"
   ]
  },
  {
   "cell_type": "markdown",
   "metadata": {},
   "source": [
    "Below, we simulate a process that generated missing data.\n",
    "\n",
    "It is a totally contrived example:\n",
    "\n",
    "- We have houses\n",
    "- Each houses has a songbird\n",
    "- Each songbird has a certain number of notes\n",
    "- When a house has a cat the number of notes is lesser (below beta is negative)"
   ]
  },
  {
   "cell_type": "code",
   "execution_count": 2,
   "metadata": {},
   "outputs": [],
   "source": [
    "N_houses = 100\n",
    "alpha = 5 # avg nb of notes in houses\n",
    "beta = -3 # slope for cat influence\n",
    "k = 0.3 # probability of having a cat\n",
    "r = 0.2 # probability that we don't know if a house has a cat"
   ]
  },
  {
   "cell_type": "markdown",
   "metadata": {},
   "source": [
    "With that we can simulate the data"
   ]
  },
  {
   "cell_type": "code",
   "execution_count": 3,
   "metadata": {},
   "outputs": [],
   "source": [
    "cat = stats.bernoulli.rvs(k,size=N_houses)\n",
    "cat = cat.astype('float') ## to be able to replace array elements afterwards (having integers would cause an issue)\n",
    "notes = stats.poisson.rvs(alpha + cat * beta ,size = N_houses)\n",
    "notes = notes.astype('float')\n",
    "R_C = stats.bernoulli.rvs(r,size=N_houses) ## house with known and unknown cats\n",
    "cat_obs = cat\n",
    "cat_obs[R_C == 1] = -9 ## arbitrary impossible replacement to signal a misssing value\n",
    "\n",
    "cat = cat.astype('int')\n",
    "notes = notes.astype('int')"
   ]
  },
  {
   "cell_type": "markdown",
   "metadata": {},
   "source": [
    "From there we want to go the other way around and pretend we know `notes` while we want to know which are the houses having a `cat`.\n",
    "\n",
    "If we call Ni the number of notes and Ci the presence of a cat in the house, we have:\n",
    "\n",
    "Pr(Ni) = (proba of a cat) * (proba of Ni while having a cat) + (proba of no cat) * (proba of Ni while having not a cat)\n",
    "\n",
    "Pr(Ni) = Pr(Ci = 1) * Pr(Ni | Ci = 1) + Pr(Ci = 0) * Pr(Ni | Ci = 0)\n",
    "\n",
    "\n"
   ]
  },
  {
   "cell_type": "code",
   "execution_count": 4,
   "metadata": {},
   "outputs": [],
   "source": [
    "def log_sum_exp( x ):\n",
    "    xmax = x.max()\n",
    "    xsum = sum( np.exp( x - xmax ) )\n",
    "    print(np.exp( x - xmax ))\n",
    "    return xmax + np.log(xsum)"
   ]
  },
  {
   "cell_type": "code",
   "execution_count": 5,
   "metadata": {},
   "outputs": [
    {
     "name": "stderr",
     "output_type": "stream",
     "text": [
      "Multiprocess sampling (4 chains in 2 jobs)\n",
      "CompoundStep\n",
      ">NUTS: [b, a, k]\n",
      ">BinaryGibbsMetropolis: [cat|RC==0]\n",
      "Sampling 4 chains, 0 divergences: 100%|██████████| 6000/6000 [00:08<00:00, 735.55draws/s]\n"
     ]
    }
   ],
   "source": [
    "with pm.Model() as cat:\n",
    "    \n",
    "    k = pm.Beta(\"k\",2,2,testval=0.4)\n",
    "    cat_cond_RC0 = pm.Bernoulli(\"cat|RC==0\",k)\n",
    "    \n",
    "    a = pm.Normal(\"a\",0,1)\n",
    "    b = pm.Normal(\"b\",0,0.5)\n",
    "    \n",
    "    # cat NA\n",
    "    \n",
    "    yes_cat = tt.log(k) + pm.Poisson.dist(pm.math.exp(a+b)).logp(notes[cat_obs == -9])\n",
    "    no_cat = tt.log(1-k) + pm.Poisson.dist(pm.math.exp(a)).logp(notes[cat_obs == -9])\n",
    "        \n",
    "    \n",
    "    notes_cond_RC1 = pm.Potential(\"notes|RC==1\",\n",
    "        pm.math.exp(pm.math.logsumexp(\n",
    "            tt.stack(yes_cat,no_cat),\n",
    "            axis=0\n",
    "        ))\n",
    "    )\n",
    "                              \n",
    "    \n",
    "    #cat known present / absent\n",
    "    lambda_ = pm.math.exp(a + b * cat_obs[cat_obs != -9])\n",
    "    \n",
    "    notes_cond_RC0 = pm.Poisson(\"notes|RC==0\",lambda_,observed=notes[cat_obs != -9])\n",
    "    \n",
    "    trace_cat = pm.sample(tune=1000,chains=4)"
   ]
  },
  {
   "cell_type": "markdown",
   "metadata": {},
   "source": [
    "In \"notes|RC==1\" We are computing Pr(Ni). A probability! \n",
    "\n",
    "Let's verify that probas are returned"
   ]
  },
  {
   "cell_type": "code",
   "execution_count": 6,
   "metadata": {},
   "outputs": [],
   "source": [
    "cat_1 = tt.log(k).tag.test_value + pm.Poisson.dist(pm.math.exp(a+b)).logp(notes[cat_obs == -9]).tag.test_value\n",
    "cat_2 = tt.log(1-k).tag.test_value + pm.Poisson.dist(pm.math.exp(a)).logp(notes[cat_obs == -9]).tag.test_value"
   ]
  },
  {
   "cell_type": "code",
   "execution_count": 7,
   "metadata": {},
   "outputs": [],
   "source": [
    "ps = np.exp(special.logsumexp([cat_1,cat_2],axis=0)).round(3)*100"
   ]
  },
  {
   "cell_type": "code",
   "execution_count": 8,
   "metadata": {},
   "outputs": [
    {
     "name": "stdout",
     "output_type": "stream",
     "text": [
      "N0 value is 1.0 and proba is: 36.8\n",
      "N1 value is 4.0 and proba is: 1.5\n",
      "N2 value is 1.0 and proba is: 36.8\n",
      "N3 value is 8.0 and proba is: 0.0\n",
      "N4 value is 1.0 and proba is: 36.8\n",
      "N5 value is 9.0 and proba is: 0.0\n",
      "N6 value is 7.0 and proba is: 0.0\n",
      "N7 value is 1.0 and proba is: 36.8\n",
      "N8 value is 1.0 and proba is: 36.8\n",
      "N9 value is 3.0 and proba is: 6.1\n",
      "N10 value is 1.0 and proba is: 36.8\n",
      "N11 value is 6.0 and proba is: 0.1\n",
      "N12 value is 0.0 and proba is: 36.8\n",
      "N13 value is 4.0 and proba is: 1.5\n",
      "N14 value is 7.0 and proba is: 0.0\n",
      "N15 value is 8.0 and proba is: 0.0\n",
      "N16 value is 7.0 and proba is: 0.0\n",
      "N17 value is 1.0 and proba is: 36.8\n",
      "N18 value is 4.0 and proba is: 1.5\n"
     ]
    }
   ],
   "source": [
    "val_proba = np.array((notes[cat_obs == -9],ps))\n",
    "\n",
    "for i in np.arange(len(ps)):\n",
    "    print(\"N{0} value is {1} and proba is: {2}\".format(i,val_proba[0,i],val_proba[1,i]))"
   ]
  },
  {
   "cell_type": "code",
   "execution_count": 9,
   "metadata": {},
   "outputs": [
    {
     "data": {
      "text/html": [
       "<div>\n",
       "<style scoped>\n",
       "    .dataframe tbody tr th:only-of-type {\n",
       "        vertical-align: middle;\n",
       "    }\n",
       "\n",
       "    .dataframe tbody tr th {\n",
       "        vertical-align: top;\n",
       "    }\n",
       "\n",
       "    .dataframe thead th {\n",
       "        text-align: right;\n",
       "    }\n",
       "</style>\n",
       "<table border=\"1\" class=\"dataframe\">\n",
       "  <thead>\n",
       "    <tr style=\"text-align: right;\">\n",
       "      <th></th>\n",
       "      <th>mean</th>\n",
       "      <th>sd</th>\n",
       "      <th>hpd_3%</th>\n",
       "      <th>hpd_97%</th>\n",
       "      <th>mcse_mean</th>\n",
       "      <th>mcse_sd</th>\n",
       "      <th>ess_mean</th>\n",
       "      <th>ess_sd</th>\n",
       "      <th>ess_bulk</th>\n",
       "      <th>ess_tail</th>\n",
       "      <th>r_hat</th>\n",
       "    </tr>\n",
       "  </thead>\n",
       "  <tbody>\n",
       "    <tr>\n",
       "      <th>cat|RC==0</th>\n",
       "      <td>0.554</td>\n",
       "      <td>0.497</td>\n",
       "      <td>0.000</td>\n",
       "      <td>1.000</td>\n",
       "      <td>0.011</td>\n",
       "      <td>0.008</td>\n",
       "      <td>2068.0</td>\n",
       "      <td>2068.0</td>\n",
       "      <td>2068.0</td>\n",
       "      <td>2000.0</td>\n",
       "      <td>1.0</td>\n",
       "    </tr>\n",
       "    <tr>\n",
       "      <th>a</th>\n",
       "      <td>1.528</td>\n",
       "      <td>0.062</td>\n",
       "      <td>1.404</td>\n",
       "      <td>1.638</td>\n",
       "      <td>0.001</td>\n",
       "      <td>0.001</td>\n",
       "      <td>1795.0</td>\n",
       "      <td>1795.0</td>\n",
       "      <td>1805.0</td>\n",
       "      <td>1509.0</td>\n",
       "      <td>1.0</td>\n",
       "    </tr>\n",
       "    <tr>\n",
       "      <th>b</th>\n",
       "      <td>-0.729</td>\n",
       "      <td>0.137</td>\n",
       "      <td>-0.979</td>\n",
       "      <td>-0.468</td>\n",
       "      <td>0.003</td>\n",
       "      <td>0.002</td>\n",
       "      <td>1903.0</td>\n",
       "      <td>1880.0</td>\n",
       "      <td>1912.0</td>\n",
       "      <td>1122.0</td>\n",
       "      <td>1.0</td>\n",
       "    </tr>\n",
       "    <tr>\n",
       "      <th>k</th>\n",
       "      <td>0.546</td>\n",
       "      <td>0.225</td>\n",
       "      <td>0.148</td>\n",
       "      <td>0.929</td>\n",
       "      <td>0.005</td>\n",
       "      <td>0.004</td>\n",
       "      <td>1707.0</td>\n",
       "      <td>1707.0</td>\n",
       "      <td>1654.0</td>\n",
       "      <td>1444.0</td>\n",
       "      <td>1.0</td>\n",
       "    </tr>\n",
       "  </tbody>\n",
       "</table>\n",
       "</div>"
      ],
      "text/plain": [
       "            mean     sd  hpd_3%  hpd_97%  mcse_mean  mcse_sd  ess_mean  \\\n",
       "cat|RC==0  0.554  0.497   0.000    1.000      0.011    0.008    2068.0   \n",
       "a          1.528  0.062   1.404    1.638      0.001    0.001    1795.0   \n",
       "b         -0.729  0.137  -0.979   -0.468      0.003    0.002    1903.0   \n",
       "k          0.546  0.225   0.148    0.929      0.005    0.004    1707.0   \n",
       "\n",
       "           ess_sd  ess_bulk  ess_tail  r_hat  \n",
       "cat|RC==0  2068.0    2068.0    2000.0    1.0  \n",
       "a          1795.0    1805.0    1509.0    1.0  \n",
       "b          1880.0    1912.0    1122.0    1.0  \n",
       "k          1707.0    1654.0    1444.0    1.0  "
      ]
     },
     "execution_count": 9,
     "metadata": {},
     "output_type": "execute_result"
    }
   ],
   "source": [
    "pm.summary(trace_cat)"
   ]
  },
  {
   "cell_type": "markdown",
   "metadata": {},
   "source": [
    "Yet it seems notes_cond_RC1 has no impact on the inference. For instance k @ 0.5 well is our pain old Beta(2,2)"
   ]
  },
  {
   "cell_type": "code",
   "execution_count": 10,
   "metadata": {},
   "outputs": [
    {
     "name": "stderr",
     "output_type": "stream",
     "text": [
      "100%|██████████| 2000/2000 [00:03<00:00, 523.40it/s]\n"
     ]
    }
   ],
   "source": [
    "with cat:\n",
    "    post = pm.sample_posterior_predictive(trace_cat,var_names=[\"notes|RC==1\"])"
   ]
  },
  {
   "cell_type": "code",
   "execution_count": 11,
   "metadata": {},
   "outputs": [
    {
     "data": {
      "text/plain": [
       "array([[0.2263516 , 0.11120208, 0.2263516 , ..., 0.01862827, 0.2263516 ,\n",
       "        0.11120208],\n",
       "       [0.09845782, 0.16717425, 0.09845782, ..., 0.06637997, 0.09845782,\n",
       "        0.16717425],\n",
       "       [0.11478204, 0.15900626, 0.11478204, ..., 0.06044713, 0.11478204,\n",
       "        0.15900626],\n",
       "       ...,\n",
       "       [0.14415637, 0.14448465, 0.14415637, ..., 0.05064736, 0.14415637,\n",
       "        0.14448465],\n",
       "       [0.17704449, 0.13186853, 0.17704449, ..., 0.03382716, 0.17704449,\n",
       "        0.13186853],\n",
       "       [0.14977875, 0.15337085, 0.14977875, ..., 0.03681212, 0.14977875,\n",
       "        0.15337085]])"
      ]
     },
     "execution_count": 11,
     "metadata": {},
     "output_type": "execute_result"
    }
   ],
   "source": [
    "post[\"notes|RC==1\"][:,0,:]"
   ]
  }
 ],
 "metadata": {
  "kernelspec": {
   "display_name": "Python 3",
   "language": "python",
   "name": "python3"
  },
  "language_info": {
   "codemirror_mode": {
    "name": "ipython",
    "version": 3
   },
   "file_extension": ".py",
   "mimetype": "text/x-python",
   "name": "python",
   "nbconvert_exporter": "python",
   "pygments_lexer": "ipython3",
   "version": "3.7.6"
  }
 },
 "nbformat": 4,
 "nbformat_minor": 4
}
